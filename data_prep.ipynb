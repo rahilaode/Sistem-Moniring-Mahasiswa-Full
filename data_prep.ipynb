{
 "cells": [
  {
   "cell_type": "code",
   "execution_count": 7,
   "metadata": {},
   "outputs": [],
   "source": [
    "import os\n",
    "import glob\n",
    "import shutil\n",
    "import random\n",
    "from tqdm import tqdm"
   ]
  },
  {
   "cell_type": "code",
   "execution_count": 8,
   "metadata": {},
   "outputs": [
    {
     "name": "stderr",
     "output_type": "stream",
     "text": [
      "0it [00:00, ?it/s]\n",
      "100%|██████████| 3242/3242 [00:04<00:00, 703.80it/s]\n",
      "100%|██████████| 1114/1114 [00:01<00:00, 754.82it/s]\n",
      "100%|██████████| 679/679 [00:00<00:00, 771.19it/s]\n",
      "100%|██████████| 1069/1069 [00:01<00:00, 671.31it/s]\n",
      "100%|██████████| 736/736 [00:01<00:00, 695.87it/s]\n",
      "100%|██████████| 1012/1012 [00:01<00:00, 621.56it/s]\n",
      "100%|██████████| 624/624 [00:00<00:00, 670.85it/s]\n",
      "100%|██████████| 832/832 [00:02<00:00, 330.17it/s]\n",
      "100%|██████████| 387/387 [00:02<00:00, 191.62it/s]\n",
      "100%|██████████| 399/399 [00:00<00:00, 593.57it/s]\n",
      "100%|██████████| 1648/1648 [00:03<00:00, 518.32it/s]\n",
      "100%|██████████| 8728/8728 [00:11<00:00, 750.82it/s]\n",
      "100%|██████████| 3605/3605 [00:05<00:00, 702.56it/s]\n",
      "100%|██████████| 8884/8884 [00:13<00:00, 683.20it/s]\n",
      "100%|██████████| 1132/1132 [00:01<00:00, 714.10it/s]\n",
      "100%|██████████| 1889/1889 [00:02<00:00, 733.65it/s]\n",
      "100%|██████████| 1648/1648 [00:02<00:00, 711.52it/s]\n",
      "100%|██████████| 4410/4410 [00:07<00:00, 621.97it/s]\n",
      "100%|██████████| 6175/6175 [00:08<00:00, 709.34it/s]\n",
      "100%|██████████| 704/704 [00:00<00:00, 753.15it/s]\n",
      "100%|██████████| 987/987 [00:01<00:00, 528.36it/s]\n",
      "100%|██████████| 382/382 [00:00<00:00, 564.93it/s]\n",
      "100%|██████████| 522/522 [00:00<00:00, 675.36it/s]\n",
      "100%|██████████| 752/752 [00:01<00:00, 717.93it/s]\n",
      "100%|██████████| 1502/1502 [00:02<00:00, 640.95it/s]\n",
      "100%|██████████| 1246/1246 [00:02<00:00, 617.55it/s]\n",
      "100%|██████████| 665/665 [00:00<00:00, 725.68it/s]\n",
      "100%|██████████| 736/736 [00:01<00:00, 714.21it/s]\n",
      "100%|██████████| 1393/1393 [00:02<00:00, 653.18it/s]\n",
      "100%|██████████| 1384/1384 [00:02<00:00, 558.60it/s]\n",
      "100%|██████████| 1738/1738 [00:02<00:00, 691.00it/s]\n",
      "100%|██████████| 6162/6162 [00:09<00:00, 643.20it/s]\n",
      "100%|██████████| 681/681 [00:01<00:00, 665.97it/s]\n",
      "100%|██████████| 739/739 [00:01<00:00, 684.35it/s]\n",
      "100%|██████████| 642/642 [00:01<00:00, 517.48it/s]\n",
      "100%|██████████| 6193/6193 [00:09<00:00, 665.91it/s]\n",
      "100%|██████████| 10257/10257 [00:16<00:00, 609.80it/s]\n"
     ]
    }
   ],
   "source": [
    "raw_data = 'C:\\Sistem_Monitoring_Mahasiswa_App\\mrlEyes_2018_01'\n",
    "for dirpath, dirname, filename in os.walk(raw_data):\n",
    "    for file in tqdm([f for f in filename if f.endswith('.png')]):\n",
    "        if file.split('_')[4] == '0':\n",
    "            path='C:\\Sistem_Monitoring_Mahasiswa_App\\Train\\closed'\n",
    "            if not os.path.exists(path):\n",
    "                os.makedirs(path)\n",
    "            shutil.copy(src=dirpath + '/' + file, dst= path)\n",
    "        elif file.split('_')[4] == '1':\n",
    "            path='C:\\Sistem_Monitoring_Mahasiswa_App\\Train\\open'\n",
    "            if not os.path.exists(path):\n",
    "                os.makedirs(path)\n",
    "            shutil.copy(src=dirpath + '/' + file, dst= path)"
   ]
  },
  {
   "cell_type": "code",
   "execution_count": 9,
   "metadata": {},
   "outputs": [],
   "source": [
    "def create_test_closed(source, destination, percent):\n",
    "    '''\n",
    "    divides closed eyes images into given percent and moves from\n",
    "    source to destination.\n",
    "    \n",
    "    Arguments:\n",
    "    source(path): path of source directory\n",
    "    destination(path): path of destination directory\n",
    "    percent(float): percent of data to be divided(range: 0 to 1)\n",
    "    '''\n",
    "    path, dirs, files_closed = next(os.walk(source))\n",
    "    file_count_closed = len(files_closed)\n",
    "    percentage = file_count_closed * percent\n",
    "    to_move = random.sample(glob.glob(source + \"/*.png\"), int(percentage))\n",
    "\n",
    "    for f in enumerate(to_move):\n",
    "        if not os.path.exists(destination):\n",
    "            os.makedirs(destination)\n",
    "        shutil.move(f[1], destination)\n",
    "    print(f'moved {int(percentage)} images to the destination successfully.')    "
   ]
  },
  {
   "cell_type": "code",
   "execution_count": 10,
   "metadata": {},
   "outputs": [],
   "source": [
    "def create_test_open(source, destination, percent):\n",
    "    '''\n",
    "    divides open eyes images into given percent and moves from\n",
    "    source to destination.\n",
    "    \n",
    "    Arguments:\n",
    "    source(path): path of source directory\n",
    "    destination(path): path of destination directory\n",
    "    percent(float): percent of data to be divided(range: 0 to 1)\n",
    "    '''\n",
    "    path, dirs, files_open = next(os.walk(source))\n",
    "    file_count_open = len(files_open)\n",
    "    percentage = file_count_open * percent\n",
    "    to_move = random.sample(glob.glob(source + \"/*.png\"), int(percentage))\n",
    "\n",
    "    for f in enumerate(to_move):\n",
    "        if not os.path.exists(destination):\n",
    "            os.makedirs(destination)\n",
    "        shutil.move(f[1], destination)\n",
    "    print(f'moved {int(percentage)} images to the destination successfully.')"
   ]
  },
  {
   "cell_type": "code",
   "execution_count": 11,
   "metadata": {},
   "outputs": [
    {
     "name": "stdout",
     "output_type": "stream",
     "text": [
      "moved 8389 images to the destination successfully.\n"
     ]
    }
   ],
   "source": [
    "create_test_closed('C:\\Sistem_Monitoring_Mahasiswa_App\\Train\\closed', \n",
    "                    'C:\\Sistem_Monitoring_Mahasiswa_App\\Test\\closed', \n",
    "                    0.2)"
   ]
  },
  {
   "cell_type": "code",
   "execution_count": 12,
   "metadata": {},
   "outputs": [
    {
     "name": "stdout",
     "output_type": "stream",
     "text": [
      "moved 8590 images to the destination successfully.\n"
     ]
    }
   ],
   "source": [
    "create_test_open('C:\\Sistem_Monitoring_Mahasiswa_App\\Train\\open', \n",
    "                    'C:\\Sistem_Monitoring_Mahasiswa_App\\Test\\open', \n",
    "                    0.2)"
   ]
  },
  {
   "cell_type": "code",
   "execution_count": null,
   "metadata": {},
   "outputs": [],
   "source": []
  }
 ],
 "metadata": {
  "kernelspec": {
   "display_name": "Python 3 (ipykernel)",
   "language": "python",
   "name": "python3"
  },
  "language_info": {
   "codemirror_mode": {
    "name": "ipython",
    "version": 3
   },
   "file_extension": ".py",
   "mimetype": "text/x-python",
   "name": "python",
   "nbconvert_exporter": "python",
   "pygments_lexer": "ipython3",
   "version": "3.9.12"
  },
  "toc": {
   "base_numbering": 1,
   "nav_menu": {},
   "number_sections": true,
   "sideBar": true,
   "skip_h1_title": false,
   "title_cell": "Table of Contents",
   "title_sidebar": "Contents",
   "toc_cell": false,
   "toc_position": {},
   "toc_section_display": true,
   "toc_window_display": false
  },
  "varInspector": {
   "cols": {
    "lenName": 16,
    "lenType": 16,
    "lenVar": 40
   },
   "kernels_config": {
    "python": {
     "delete_cmd_postfix": "",
     "delete_cmd_prefix": "del ",
     "library": "var_list.py",
     "varRefreshCmd": "print(var_dic_list())"
    },
    "r": {
     "delete_cmd_postfix": ") ",
     "delete_cmd_prefix": "rm(",
     "library": "var_list.r",
     "varRefreshCmd": "cat(var_dic_list()) "
    }
   },
   "types_to_exclude": [
    "module",
    "function",
    "builtin_function_or_method",
    "instance",
    "_Feature"
   ],
   "window_display": false
  },
  "vscode": {
   "interpreter": {
    "hash": "798c296082fbfd48f74884fa8a105e2f87bb5de7863ede6dd072edd9f19cdd18"
   }
  }
 },
 "nbformat": 4,
 "nbformat_minor": 2
}
