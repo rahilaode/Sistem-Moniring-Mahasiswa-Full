{
 "cells": [
  {
   "cell_type": "markdown",
   "id": "e996afb0",
   "metadata": {},
   "source": [
    "# Build CNN Model"
   ]
  },
  {
   "cell_type": "code",
   "execution_count": 1,
   "id": "41a57055",
   "metadata": {},
   "outputs": [],
   "source": [
    "import os\n",
    "import tensorflow as tf\n",
    "from tensorflow.keras.preprocessing.image import ImageDataGenerator\n",
    "from tensorflow.keras.callbacks import ModelCheckpoint,EarlyStopping, ReduceLROnPlateau\n",
    "#from tensorflow.keras.models import load_model\n",
    "from tensorflow.keras.metrics import BinaryAccuracy, FalsePositives, FalseNegatives, TruePositives, TrueNegatives, Precision, Recall, AUC\n",
    "import keras\n",
    "from keras.models import load_model"
   ]
  },
  {
   "cell_type": "code",
   "execution_count": 2,
   "id": "481cb542",
   "metadata": {},
   "outputs": [
    {
     "name": "stdout",
     "output_type": "stream",
     "text": [
      "Found 61128 images belonging to 2 classes.\n",
      "Found 6791 images belonging to 2 classes.\n",
      "Found 16979 images belonging to 2 classes.\n"
     ]
    }
   ],
   "source": [
    "batchsize = 8\n",
    "\n",
    "TRAINING_DIR = 'Train'\n",
    "train_datagen = ImageDataGenerator(rescale=1./255, rotation_range=0.2, horizontal_flip=True, validation_split=0.1)\n",
    "\n",
    "train_data = train_datagen.flow_from_directory(TRAINING_DIR,\n",
    "                                                   batch_size = batchsize,\n",
    "                                                   class_mode = 'binary',\n",
    "                                                   target_size = (80, 80), subset='training')\n",
    "VALIDATION_DIR = 'Train'\n",
    "validation_datagen = ImageDataGenerator(rescale = 1.0/255.)\n",
    "\n",
    "validation_data = train_datagen.flow_from_directory(VALIDATION_DIR,\n",
    "                                                             batch_size = batchsize,\n",
    "                                                             class_mode = 'binary',\n",
    "                                                             target_size = (80, 80), subset='validation')\n",
    "\n",
    "TEST_DIR = 'Test'\n",
    "test_datagen = ImageDataGenerator(rescale = 1.0/255)\n",
    "\n",
    "test_data = test_datagen.flow_from_directory(TEST_DIR, target_size=(80,80), class_mode='binary', batch_size=batchsize)"
   ]
  },
  {
   "cell_type": "code",
   "execution_count": 39,
   "id": "8ce3093a",
   "metadata": {},
   "outputs": [],
   "source": [
    "model = tf.keras.models.Sequential([\n",
    "    tf.keras.layers.Conv2D(50, (3,3), activation = 'relu', input_shape = (80, 80, 3)),\n",
    "    tf.keras.layers.MaxPooling2D(2,2),\n",
    "    \n",
    "    tf.keras.layers.Conv2D(50, (3,3), activation = 'relu'),\n",
    "    tf.keras.layers.MaxPooling2D(2,2),\n",
    "    \n",
    "    tf.keras.layers.Flatten(),\n",
    "    tf.keras.layers.Dense(256, activation='relu'),\n",
    "    tf.keras.layers.Dropout(0.5),\n",
    "    tf.keras.layers.Dense(100, activation='relu'),\n",
    "    tf.keras.layers.Dropout(0.5),\n",
    "    tf.keras.layers.Dense(50, activation='relu'),\n",
    "    tf.keras.layers.Dropout(0.5),\n",
    "    tf.keras.layers.Dense(1, activation = 'sigmoid')\n",
    "])\n",
    "\n",
    "METRICS = [\n",
    "    BinaryAccuracy(name='Accuracy'),\n",
    "    Precision(name='Precision'),\n",
    "    Recall(name='Recall')\n",
    "]\n",
    "\n",
    "model.compile(optimizer='adam', loss='binary_crossentropy', metrics=METRICS)"
   ]
  },
  {
   "cell_type": "code",
   "execution_count": 40,
   "id": "8ffb8dfa",
   "metadata": {},
   "outputs": [],
   "source": [
    "train_y = train_data.classes\n",
    "val_y = validation_data.classes\n",
    "test_y = test_data.classes"
   ]
  },
  {
   "cell_type": "code",
   "execution_count": 41,
   "id": "9e1356de",
   "metadata": {},
   "outputs": [
    {
     "name": "stdout",
     "output_type": "stream",
     "text": [
      "Distribution of Train Data\n",
      "1    30926\n",
      "0    30202\n",
      "dtype: int64\n"
     ]
    },
    {
     "data": {
      "text/plain": [
       "<AxesSubplot:>"
      ]
     },
     "execution_count": 41,
     "metadata": {},
     "output_type": "execute_result"
    },
    {
     "data": {
      "image/png": "[encoded data removed]",
      "text/plain": [
       "<Figure size 432x288 with 1 Axes>"
      ]
     },
     "metadata": {
      "needs_background": "light"
     },
     "output_type": "display_data"
    }
   ],
   "source": [
    "import pandas as pd\n",
    "\n",
    "print(\"Distribution of Train Data\")\n",
    "print(pd.Series(train_y).value_counts())\n",
    "pd.Series(train_y).value_counts().plot(kind='bar')"
   ]
  },
  {
   "cell_type": "code",
   "execution_count": 42,
   "id": "0897e747",
   "metadata": {},
   "outputs": [
    {
     "name": "stdout",
     "output_type": "stream",
     "text": [
      "Distribution of Validation Data\n",
      "1    3436\n",
      "0    3355\n",
      "dtype: int64\n"
     ]
    },
    {
     "data": {
      "text/plain": [
       "<AxesSubplot:>"
      ]
     },
     "execution_count": 42,
     "metadata": {},
     "output_type": "execute_result"
    },
    {
     "data": {
      "image/png": "[encoded data removed]",
      "text/plain": [
       "<Figure size 432x288 with 1 Axes>"
      ]
     },
     "metadata": {
      "needs_background": "light"
     },
     "output_type": "display_data"
    }
   ],
   "source": [
    "print(\"Distribution of Validation Data\")\n",
    "print(pd.Series(val_y).value_counts())\n",
    "pd.Series(val_y).value_counts().plot(kind='bar')"
   ]
  },
  {
   "cell_type": "code",
   "execution_count": 43,
   "id": "9aa5f4c1",
   "metadata": {},
   "outputs": [
    {
     "name": "stdout",
     "output_type": "stream",
     "text": [
      "Distribution of Test Data\n",
      "1    8590\n",
      "0    8389\n",
      "dtype: int64\n"
     ]
    },
    {
     "data": {
      "text/plain": [
       "<AxesSubplot:>"
      ]
     },
     "execution_count": 43,
     "metadata": {},
     "output_type": "execute_result"
    },
    {
     "data": {
      "image/png": "[encoded data removed]",
      "text/plain": [
       "<Figure size 432x288 with 1 Axes>"
      ]
     },
     "metadata": {
      "needs_background": "light"
     },
     "output_type": "display_data"
    }
   ],
   "source": [
    "print(\"Distribution of Test Data\")\n",
    "print(pd.Series(test_y).value_counts())\n",
    "pd.Series(test_y).value_counts().plot(kind='bar')"
   ]
  },
  {
   "cell_type": "markdown",
   "id": "58cd2ced",
   "metadata": {},
   "source": [
    "We can see that data for each subset is balance"
   ]
  },
  {
   "cell_type": "code",
   "execution_count": 44,
   "id": "e8a6add8",
   "metadata": {},
   "outputs": [
    {
     "data": {
      "text/plain": [
       "{'closed': 0, 'open': 1}"
      ]
     },
     "execution_count": 44,
     "metadata": {},
     "output_type": "execute_result"
    }
   ],
   "source": [
    "test_data.class_indices"
   ]
  },
  {
   "cell_type": "code",
   "execution_count": 45,
   "id": "15dbd1af",
   "metadata": {},
   "outputs": [],
   "source": [
    "checkpoint = ModelCheckpoint(r'C:\\Sistem_Monitoring_Mahasiswa_App\\model_checkpoints\\models.h5',\n",
    "                            monitor='val_Accuracy',save_best_only=True,verbose=1)\n",
    "\n",
    "earlystop = EarlyStopping(monitor='val_Accuracy', patience=3, verbose=1, restore_best_weights=True, mode='max')\n",
    "\n",
    "learning_rate = ReduceLROnPlateau(monitor= 'val_loss', patience=1, verbose=1)\n",
    "\n",
    "callbacks=[checkpoint,earlystop,learning_rate]"
   ]
  },
  {
   "cell_type": "code",
   "execution_count": 46,
   "id": "412b0501",
   "metadata": {},
   "outputs": [
    {
     "name": "stdout",
     "output_type": "stream",
     "text": [
      "Epoch 1/20\n"
     ]
    },
    {
     "name": "stderr",
     "output_type": "stream",
     "text": [
      "C:\\Users\\laode\\AppData\\Local\\Temp\\ipykernel_14600\\3633160627.py:1: UserWarning: `Model.fit_generator` is deprecated and will be removed in a future version. Please use `Model.fit`, which supports generators.\n",
      "  history = model.fit_generator(train_data, validation_data=validation_data, callbacks=callbacks, epochs=20)\n"
     ]
    },
    {
     "name": "stdout",
     "output_type": "stream",
     "text": [
      "7641/7641 [==============================] - ETA: 0s - loss: 0.3046 - Accuracy: 0.8702 - Precision: 0.8701 - Recall: 0.8738\n",
      "Epoch 1: val_Accuracy improved from inf to 0.92608, saving model to C:\\Sistem_Monitoring_Mahasiswa_App\\model_checkpoints\\models.h5\n",
      "7641/7641 [==============================] - 568s 74ms/step - loss: 0.3046 - Accuracy: 0.8702 - Precision: 0.8701 - Recall: 0.8738 - val_loss: 0.2015 - val_Accuracy: 0.9261 - val_Precision: 0.9112 - val_Recall: 0.9462 - lr: 0.0010\n",
      "Epoch 2/20\n",
      "7641/7641 [==============================] - ETA: 0s - loss: 0.1784 - Accuracy: 0.9395 - Precision: 0.9438 - Recall: 0.9361\n",
      "Epoch 2: val_Accuracy did not improve from 0.92608\n",
      "7641/7641 [==============================] - 571s 75ms/step - loss: 0.1784 - Accuracy: 0.9395 - Precision: 0.9438 - Recall: 0.9361 - val_loss: 0.1702 - val_Accuracy: 0.9333 - val_Precision: 0.9613 - val_Recall: 0.9045 - lr: 0.0010\n",
      "Epoch 3/20\n",
      "7641/7641 [==============================] - ETA: 0s - loss: 0.1459 - Accuracy: 0.9524 - Precision: 0.9554 - Recall: 0.9502\n",
      "Epoch 3: val_Accuracy did not improve from 0.92608\n",
      "7641/7641 [==============================] - 588s 77ms/step - loss: 0.1459 - Accuracy: 0.9524 - Precision: 0.9554 - Recall: 0.9502 - val_loss: 0.1674 - val_Accuracy: 0.9323 - val_Precision: 0.9739 - val_Recall: 0.8900 - lr: 0.0010\n",
      "Epoch 4/20\n",
      "7641/7641 [==============================] - ETA: 0s - loss: 0.1286 - Accuracy: 0.9596 - Precision: 0.9614 - Recall: 0.9587\n",
      "Epoch 4: val_Accuracy did not improve from 0.92608\n",
      "7641/7641 [==============================] - 572s 75ms/step - loss: 0.1286 - Accuracy: 0.9596 - Precision: 0.9614 - Recall: 0.9587 - val_loss: 0.1399 - val_Accuracy: 0.9452 - val_Precision: 0.9659 - val_Recall: 0.9243 - lr: 0.0010\n",
      "Epoch 5/20\n",
      "7641/7641 [==============================] - ETA: 0s - loss: 0.1200 - Accuracy: 0.9620 - Precision: 0.9626 - Recall: 0.9623\n",
      "Epoch 5: val_Accuracy did not improve from 0.92608\n",
      "\n",
      "Epoch 5: ReduceLROnPlateau reducing learning rate to 0.00010000000474974513.\n",
      "7641/7641 [==============================] - 572s 75ms/step - loss: 0.1200 - Accuracy: 0.9620 - Precision: 0.9626 - Recall: 0.9623 - val_loss: 0.1700 - val_Accuracy: 0.9333 - val_Precision: 0.9797 - val_Recall: 0.8865 - lr: 0.0010\n",
      "Epoch 6/20\n",
      "7641/7641 [==============================] - ETA: 0s - loss: 0.0856 - Accuracy: 0.9733 - Precision: 0.9733 - Recall: 0.9740\n",
      "Epoch 6: val_Accuracy did not improve from 0.92608\n",
      "7641/7641 [==============================] - 579s 76ms/step - loss: 0.0856 - Accuracy: 0.9733 - Precision: 0.9733 - Recall: 0.9740 - val_loss: 0.1185 - val_Accuracy: 0.9598 - val_Precision: 0.9717 - val_Recall: 0.9482 - lr: 1.0000e-04\n",
      "Epoch 7/20\n",
      "7641/7641 [==============================] - ETA: 0s - loss: 0.0810 - Accuracy: 0.9743 - Precision: 0.9730 - Recall: 0.9764\n",
      "Epoch 7: val_Accuracy did not improve from 0.92608\n",
      "\n",
      "Epoch 7: ReduceLROnPlateau reducing learning rate to 1.0000000474974514e-05.\n",
      "7641/7641 [==============================] - 572s 75ms/step - loss: 0.0810 - Accuracy: 0.9743 - Precision: 0.9730 - Recall: 0.9764 - val_loss: 0.1317 - val_Accuracy: 0.9563 - val_Precision: 0.9784 - val_Recall: 0.9342 - lr: 1.0000e-04\n",
      "Epoch 8/20\n",
      "7641/7641 [==============================] - ETA: 0s - loss: 0.0746 - Accuracy: 0.9758 - Precision: 0.9723 - Recall: 0.9801\n",
      "Epoch 8: val_Accuracy did not improve from 0.92608\n",
      "\n",
      "Epoch 8: ReduceLROnPlateau reducing learning rate to 1.0000000656873453e-06.\n",
      "7641/7641 [==============================] - 595s 78ms/step - loss: 0.0746 - Accuracy: 0.9758 - Precision: 0.9723 - Recall: 0.9801 - val_loss: 0.1301 - val_Accuracy: 0.9563 - val_Precision: 0.9726 - val_Recall: 0.9400 - lr: 1.0000e-05\n",
      "Epoch 9/20\n",
      "7641/7641 [==============================] - ETA: 0s - loss: 0.0757 - Accuracy: 0.9764 - Precision: 0.9730 - Recall: 0.9805\n",
      "Epoch 9: val_Accuracy did not improve from 0.92608\n",
      "Restoring model weights from the end of the best epoch: 6.\n",
      "\n",
      "Epoch 9: ReduceLROnPlateau reducing learning rate to 1.0000001111620805e-07.\n",
      "7641/7641 [==============================] - 570s 75ms/step - loss: 0.0757 - Accuracy: 0.9764 - Precision: 0.9730 - Recall: 0.9805 - val_loss: 0.1291 - val_Accuracy: 0.9570 - val_Precision: 0.9735 - val_Recall: 0.9406 - lr: 1.0000e-06\n",
      "Epoch 9: early stopping\n"
     ]
    }
   ],
   "source": [
    "history = model.fit_generator(train_data, validation_data=validation_data, callbacks=callbacks, epochs=20)\n",
    "\n",
    "model.save(\"cnn_model2.h5\")"
   ]
  },
  {
   "cell_type": "code",
   "execution_count": 51,
   "id": "ee6ac23e",
   "metadata": {},
   "outputs": [
    {
     "data": {
      "image/png": "[encoded data removed]",
      "text/plain": [
       "<Figure size 576x360 with 1 Axes>"
      ]
     },
     "metadata": {
      "needs_background": "light"
     },
     "output_type": "display_data"
    }
   ],
   "source": [
    "#Plot Metrics\n",
    "import matplotlib.pyplot as plt\n",
    "plt.figure(figsize = (8,5))\n",
    "plt.plot(history.history['Accuracy'])\n",
    "plt.plot(history.history['val_Accuracy'])\n",
    "\n",
    "plt.title('Training and Validation')\n",
    "plt.ylabel('Value')\n",
    "plt.xlabel('Epoch')\n",
    "plt.legend(['Accuracy', 'Validation Accuracy'], bbox_to_anchor=(1.02, 1), loc='upper left', borderaxespad=0)\n",
    "plt.show()"
   ]
  },
  {
   "cell_type": "code",
   "execution_count": 52,
   "id": "73248cbf",
   "metadata": {},
   "outputs": [
    {
     "data": {
      "image/png": "[encoded data removed]",
      "text/plain": [
       "<Figure size 576x360 with 1 Axes>"
      ]
     },
     "metadata": {
      "needs_background": "light"
     },
     "output_type": "display_data"
    }
   ],
   "source": [
    "plt.figure(figsize = (8,5))\n",
    "plt.plot(history.history['loss'])\n",
    "plt.plot(history.history['val_loss'])\n",
    "\n",
    "plt.title('Training and Validation Loss')\n",
    "plt.ylabel('Value')\n",
    "plt.xlabel('Epoch')\n",
    "plt.legend(['Loss', 'Validation Loss'], bbox_to_anchor=(1.02, 1), loc='upper left', borderaxespad=0)\n",
    "plt.show()"
   ]
  },
  {
   "cell_type": "code",
   "execution_count": 3,
   "id": "d5d13b26",
   "metadata": {},
   "outputs": [],
   "source": [
    "#LOAD MODEL\n",
    "model = load_model(\"model_cnn2.h5\")"
   ]
  },
  {
   "cell_type": "code",
   "execution_count": 4,
   "id": "efc116cd",
   "metadata": {},
   "outputs": [
    {
     "name": "stdout",
     "output_type": "stream",
     "text": [
      "Model: \"sequential\"\n",
      "_________________________________________________________________\n",
      " Layer (type)                Output Shape              Param #   \n",
      "=================================================================\n",
      " conv2d (Conv2D)             (None, 78, 78, 128)       3584      \n",
      "                                                                 \n",
      " max_pooling2d (MaxPooling2D  (None, 39, 39, 128)      0         \n",
      " )                                                               \n",
      "                                                                 \n",
      " conv2d_1 (Conv2D)           (None, 37, 37, 64)        73792     \n",
      "                                                                 \n",
      " max_pooling2d_1 (MaxPooling  (None, 18, 18, 64)       0         \n",
      " 2D)                                                             \n",
      "                                                                 \n",
      " conv2d_2 (Conv2D)           (None, 16, 16, 32)        18464     \n",
      "                                                                 \n",
      " max_pooling2d_2 (MaxPooling  (None, 8, 8, 32)         0         \n",
      " 2D)                                                             \n",
      "                                                                 \n",
      " conv2d_3 (Conv2D)           (None, 6, 6, 16)          4624      \n",
      "                                                                 \n",
      " max_pooling2d_3 (MaxPooling  (None, 3, 3, 16)         0         \n",
      " 2D)                                                             \n",
      "                                                                 \n",
      " flatten (Flatten)           (None, 144)               0         \n",
      "                                                                 \n",
      " dense (Dense)               (None, 8)                 1160      \n",
      "                                                                 \n",
      " dense_1 (Dense)             (None, 1)                 9         \n",
      "                                                                 \n",
      "=================================================================\n",
      "Total params: 101,633\n",
      "Trainable params: 101,633\n",
      "Non-trainable params: 0\n",
      "_________________________________________________________________\n"
     ]
    }
   ],
   "source": [
    "model.summary()"
   ]
  },
  {
   "cell_type": "code",
   "execution_count": 5,
   "id": "1b4a546c",
   "metadata": {},
   "outputs": [
    {
     "name": "stdout",
     "output_type": "stream",
     "text": [
      "2123/2123 [==============================] - 72s 33ms/step - loss: 0.0771 - Accuracy: 0.9712 - TP: 8343.0000 - FP: 242.0000 - TN: 8147.0000 - FN: 247.0000 - Precision: 0.9718 - Recall: 0.9712\n"
     ]
    },
    {
     "data": {
      "text/plain": [
       "[0.07713539153337479,\n",
       " 0.9711996912956238,\n",
       " 8343.0,\n",
       " 242.0,\n",
       " 8147.0,\n",
       " 247.0,\n",
       " 0.9718112945556641,\n",
       " 0.9712456464767456]"
      ]
     },
     "execution_count": 5,
     "metadata": {},
     "output_type": "execute_result"
    }
   ],
   "source": [
    "model.evaluate(test_data)"
   ]
  }
 ],
 "metadata": {
  "kernelspec": {
   "display_name": "Python 3 (ipykernel)",
   "language": "python",
   "name": "python3"
  },
  "language_info": {
   "codemirror_mode": {
    "name": "ipython",
    "version": 3
   },
   "file_extension": ".py",
   "mimetype": "text/x-python",
   "name": "python",
   "nbconvert_exporter": "python",
   "pygments_lexer": "ipython3",
   "version": "3.9.12"
  },
  "toc": {
   "base_numbering": 1,
   "nav_menu": {},
   "number_sections": true,
   "sideBar": true,
   "skip_h1_title": false,
   "title_cell": "Table of Contents",
   "title_sidebar": "Contents",
   "toc_cell": false,
   "toc_position": {},
   "toc_section_display": true,
   "toc_window_display": false
  },
  "varInspector": {
   "cols": {
    "lenName": 16,
    "lenType": 16,
    "lenVar": 40
   },
   "kernels_config": {
    "python": {
     "delete_cmd_postfix": "",
     "delete_cmd_prefix": "del ",
     "library": "var_list.py",
     "varRefreshCmd": "print(var_dic_list())"
    },
    "r": {
     "delete_cmd_postfix": ") ",
     "delete_cmd_prefix": "rm(",
     "library": "var_list.r",
     "varRefreshCmd": "cat(var_dic_list()) "
    }
   },
   "types_to_exclude": [
    "module",
    "function",
    "builtin_function_or_method",
    "instance",
    "_Feature"
   ],
   "window_display": false
  }
 },
 "nbformat": 4,
 "nbformat_minor": 5
}
