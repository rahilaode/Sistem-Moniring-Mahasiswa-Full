{
 "cells": [
  {
   "cell_type": "markdown",
   "id": "f6192302",
   "metadata": {},
   "source": [
    "# Resize Image and Convert to RGB"
   ]
  },
  {
   "cell_type": "code",
   "execution_count": 1,
   "id": "a85cd435",
   "metadata": {},
   "outputs": [],
   "source": [
    "import cv2\n",
    "import os\n",
    "import matplotlib.pyplot as plt\n",
    "import numpy as np\n",
    "import glob"
   ]
  },
  {
   "cell_type": "code",
   "execution_count": 2,
   "id": "07d3e4a1",
   "metadata": {},
   "outputs": [],
   "source": [
    "inputFolder = \"C:\\Sistem_Monitoring_Mahasiswa_App\\Train\\closed\"\n",
    "folderLen = len(inputFolder)\n",
    "for img in glob.glob(inputFolder + \"/*.png\"):\n",
    "    image = cv2.imread(img, cv2.IMREAD_GRAYSCALE)\n",
    "    backtorgb = cv2.cvtColor(image, cv2.COLOR_GRAY2RGB)\n",
    "    imgResized = cv2.resize(backtorgb, (80, 80))\n",
    "    cv2.imwrite(inputFolder + img[folderLen:], imgResized)\n",
    "    cv2.waitKey(30)"
   ]
  },
  {
   "cell_type": "code",
   "execution_count": null,
   "id": "6fd5c16b",
   "metadata": {},
   "outputs": [],
   "source": [
    "inputFolder = \"C:\\Sistem_Monitoring_Mahasiswa_App\\Train\\open\"\n",
    "folderLen = len(inputFolder)\n",
    "for img in glob.glob(inputFolder + \"/*.png\"):\n",
    "    image = cv2.imread(img, cv2.IMREAD_GRAYSCALE)\n",
    "    backtorgb = cv2.cvtColor(image, cv2.COLOR_GRAY2RGB)\n",
    "    imgResized = cv2.resize(backtorgb, (80, 80))\n",
    "    cv2.imwrite(inputFolder + img[folderLen:], imgResized)\n",
    "    cv2.waitKey(30)"
   ]
  },
  {
   "cell_type": "code",
   "execution_count": null,
   "id": "d932ef9b",
   "metadata": {},
   "outputs": [],
   "source": [
    "inputFolder = \"C:\\Sistem_Monitoring_Mahasiswa_App\\Test\\open\"\n",
    "folderLen = len(inputFolder)\n",
    "for img in glob.glob(inputFolder + \"/*.png\"):\n",
    "    image = cv2.imread(img, cv2.IMREAD_GRAYSCALE)\n",
    "    backtorgb = cv2.cvtColor(image, cv2.COLOR_GRAY2RGB)\n",
    "    imgResized = cv2.resize(backtorgb, (80, 80))\n",
    "    cv2.imwrite(inputFolder + img[folderLen:], imgResized)\n",
    "    cv2.waitKey(30)"
   ]
  },
  {
   "cell_type": "code",
   "execution_count": null,
   "id": "5d42d578",
   "metadata": {},
   "outputs": [],
   "source": [
    "inputFolder = \"C:\\Sistem_Monitoring_Mahasiswa_App\\Test\\closed\"\n",
    "folderLen = len(inputFolder)\n",
    "for img in glob.glob(inputFolder + \"/*.png\"):\n",
    "    image = cv2.imread(img, cv2.IMREAD_GRAYSCALE)\n",
    "    backtorgb = cv2.cvtColor(image, cv2.COLOR_GRAY2RGB)\n",
    "    imgResized = cv2.resize(backtorgb, (80, 80))\n",
    "    cv2.imwrite(inputFolder + img[folderLen:], imgResized)\n",
    "    cv2.waitKey(30)"
   ]
  }
 ],
 "metadata": {
  "kernelspec": {
   "display_name": "Python 3.10.5 64-bit",
   "language": "python",
   "name": "python3"
  },
  "language_info": {
   "codemirror_mode": {
    "name": "ipython",
    "version": 3
   },
   "file_extension": ".py",
   "mimetype": "text/x-python",
   "name": "python",
   "nbconvert_exporter": "python",
   "pygments_lexer": "ipython3",
   "version": "3.10.5"
  },
  "vscode": {
   "interpreter": {
    "hash": "798c296082fbfd48f74884fa8a105e2f87bb5de7863ede6dd072edd9f19cdd18"
   }
  }
 },
 "nbformat": 4,
 "nbformat_minor": 5
}
